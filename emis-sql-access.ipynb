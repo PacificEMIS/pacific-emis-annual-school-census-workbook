{
 "cells": [
  {
   "cell_type": "code",
   "execution_count": null,
   "id": "e0f2b242-b5b3-4826-bc91-10589cbe1676",
   "metadata": {},
   "outputs": [],
   "source": [
    "# Import configuration\n",
    "import json\n",
    "from datetime import datetime\n",
    "import os\n",
    "import pandas as pd\n",
    "import pickle\n",
    "\n",
    "def load_config(config_path=\"config.json\"):\n",
    "    \"\"\"Load configuration from a JSON file.\"\"\"\n",
    "    with open(config_path, 'r') as file:\n",
    "        config = json.load(file)\n",
    "    return config[\"sqlserver_name\"], config[\"sqlserver_db\"], config[\"sqlserver_ip\"], config[\"sqlserver_port\"], config[\"sqlserver_user\"], config[\"sqlserver_pwd\"], config['base_url'], config['username'], config['password'], config['output_directory'], config['source_workbook_filename']\n",
    "    \n",
    "\n",
    "# Test loading configuration\n",
    "sqlserver_name, sqlserver_db, sqlserver_ip, sqlserver_port, sqlserver_user, sqlserver_pwd, base_url, username, password, output_directory, source_workbook_filename = load_config()\n",
    "print(\"Configuration loaded successfully.\")"
   ]
  },
  {
   "cell_type": "code",
   "execution_count": null,
   "id": "6ad29aab-6394-4162-a52c-2d2079a7a24b",
   "metadata": {},
   "outputs": [],
   "source": [
    "from sqlalchemy import create_engine\n",
    "import urllib\n",
    "\n",
    "# Build the connection string for SQLAlchemy using pyodbc\n",
    "params = urllib.parse.quote_plus(\n",
    "    f\"DRIVER={{ODBC Driver 17 for SQL Server}};\"\n",
    "    f\"SERVER={sqlserver_ip},{sqlserver_port};\"\n",
    "    f\"DATABASE={sqlserver_db};\"\n",
    "    f\"UID={sqlserver_user};\"\n",
    "    f\"PWD={sqlserver_pwd};\"\n",
    "    f\"TrustServerCertificate=yes;\"\n",
    ")\n",
    "\n",
    "# Create SQLAlchemy engine\n",
    "engine = create_engine(f\"mssql+pyodbc:///?odbc_connect={params}\")\n"
   ]
  },
  {
   "cell_type": "code",
   "execution_count": null,
   "id": "1a645338-7ec6-40ca-a9fd-d6ef159a10bf",
   "metadata": {},
   "outputs": [],
   "source": [
    "import pandas as pd\n",
    "\n",
    "# Define your SQL query\n",
    "query = \"\"\"\n",
    "SELECT \n",
    "    S.stuCardID,\n",
    "    S.stuGiven,\n",
    "    S.stuMiddleNames,\n",
    "    S.stuFamilyName,\n",
    "    S.stuGender,\n",
    "    S.stuDoB,\n",
    "    S.stuDoBEst,\n",
    "    S.stuEthnicity,\n",
    "    S.stuMaritalStatus,\n",
    "    S.stuSpEdIntakeDate,\n",
    "\tCASE \n",
    "        WHEN SE.stueSpEd = 1 THEN 'Yes'\n",
    "        WHEN SE.stueSpEd = 0 THEN 'No'\n",
    "        ELSE NULL\n",
    "    END AS stueSpEdStr,\n",
    "    CASE \n",
    "        WHEN SE.stueSpEdIEP = 1 THEN 'Yes'\n",
    "        WHEN SE.stueSpEdIEP = 0 THEN 'No'\n",
    "        ELSE NULL\n",
    "    END AS stueSpEdIEPStr,\n",
    "\tCASE \n",
    "        WHEN SE.stueSpEdHasAccommodation = 1 THEN 'Yes'\n",
    "        WHEN SE.stueSpEdHasAccommodation = 0 THEN 'No'\n",
    "        ELSE NULL\n",
    "    END AS stueSpEdHasAccomodationStr,\n",
    "\tSE.*,\n",
    "\tENV.codeDescription SpEdEnv,\n",
    "\tDIS.codeDescription SpEdDis,\n",
    "\tENG.codeDescription SpEdEng,\n",
    "\tACC.codeDescription SpEdAcc,\n",
    "\tASS.codeDescription SpEdAss\n",
    "FROM [dbo].[StudentEnrolment_] SE\n",
    "INNER JOIN Student_ S ON SE.stuID = S.stuID\n",
    "LEFT OUTER JOIN lkpSpEdEnvironment ENV ON SE.stueSpEdEnv = ENV.codeCode\n",
    "LEFT OUTER JOIN lkpDisabilities DIS ON SE.stueSpEdEnv = DIS.codeCode\n",
    "LEFT OUTER JOIN lkpEnglishLearner ENG ON SE.stueSpEdEnglish = ENG.codeCode\n",
    "LEFT OUTER JOIN lkpSpEdAccommodations ACC ON SE.stueSpEdAccommodation = ACC.codeCode\n",
    "LEFT OUTER JOIN lkpSpEdAssessmentTypes ASS ON SE.stueSpEdAssessment = ASS.codeCode\n",
    "ORDER BY stueYear\n",
    "\"\"\"\n",
    "\n",
    "# Run the query and get the result in a DataFrame\n",
    "df_enrolments = pd.read_sql_query(query, engine)\n",
    "%store df_enrolments\n",
    "\n",
    "# Preview the result\n",
    "df_enrolments.head()"
   ]
  },
  {
   "cell_type": "code",
   "execution_count": null,
   "id": "8b9eb777-e3ca-4c4d-bbaa-c46ddedd1477",
   "metadata": {},
   "outputs": [],
   "source": [
    "df_enrolments.columns"
   ]
  },
  {
   "cell_type": "code",
   "execution_count": null,
   "id": "ba3d8bd0-379f-42a1-ae20-15682d6ff52d",
   "metadata": {},
   "outputs": [],
   "source": []
  }
 ],
 "metadata": {
  "jupytext": {
   "formats": "ipynb,auto:percent"
  },
  "kernelspec": {
   "display_name": "Python 3 (ipykernel)",
   "language": "python",
   "name": "python3"
  },
  "language_info": {
   "codemirror_mode": {
    "name": "ipython",
    "version": 3
   },
   "file_extension": ".py",
   "mimetype": "text/x-python",
   "name": "python",
   "nbconvert_exporter": "python",
   "pygments_lexer": "ipython3",
   "version": "3.12.9"
  }
 },
 "nbformat": 4,
 "nbformat_minor": 5
}
